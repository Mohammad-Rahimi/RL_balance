{
 "cells": [
  {
   "cell_type": "code",
   "execution_count": 1,
   "id": "1b835852-5f13-4e70-8b4a-e51285dc9eea",
   "metadata": {},
   "outputs": [
    {
     "name": "stdout",
     "output_type": "stream",
     "text": [
      "MyoSuite:> Registering Myo Envs\n",
      "\u001b[36m    MyoSuite: A contact-rich simulation suite for musculoskeletal motor control\n",
      "        Vittorio Caggiano, Huawei Wang, Guillaume Durandau, Massimo Sartori, Vikash Kumar\n",
      "        L4DC-2019 | https://sites.google.com/view/myosuite\n",
      "    \u001b[0m\n",
      "State space dimensions: 403\n",
      "Action space dimensions: 80\n"
     ]
    },
    {
     "name": "stderr",
     "output_type": "stream",
     "text": [
      "C:\\Users\\rahimig.mohammad\\.conda\\envs\\MyoSuite2\\lib\\site-packages\\gymnasium\\spaces\\box.py:235: UserWarning: \u001b[33mWARN: Box low's precision lowered by casting to float32, current low.dtype=float64\u001b[0m\n",
      "  gym.logger.warn(\n",
      "C:\\Users\\rahimig.mohammad\\.conda\\envs\\MyoSuite2\\lib\\site-packages\\gymnasium\\spaces\\box.py:305: UserWarning: \u001b[33mWARN: Box high's precision lowered by casting to float32, current high.dtype=float64\u001b[0m\n",
      "  gym.logger.warn(\n"
     ]
    }
   ],
   "source": [
    "import gymnasium as gym\n",
    "import myosuite\n",
    "\n",
    "# Create the environment\n",
    "env = gym.make(\"myoLegWalk-v0\")\n",
    "\n",
    "# Get the dimensions of the state (observation) and action spaces\n",
    "state_dim = env.observation_space.shape[0]  # Number of state variables\n",
    "action_dim = env.action_space.shape[0]  # Number of control variables\n",
    "\n",
    "print(f\"State space dimensions: {state_dim}\")\n",
    "print(f\"Action space dimensions: {action_dim}\")\n"
   ]
  },
  {
   "cell_type": "code",
   "execution_count": null,
   "id": "1a98fd1b-c2e1-4046-9528-371d19c2e74d",
   "metadata": {},
   "outputs": [],
   "source": []
  }
 ],
 "metadata": {
  "kernelspec": {
   "display_name": "Python 3 (ipykernel)",
   "language": "python",
   "name": "python3"
  },
  "language_info": {
   "codemirror_mode": {
    "name": "ipython",
    "version": 3
   },
   "file_extension": ".py",
   "mimetype": "text/x-python",
   "name": "python",
   "nbconvert_exporter": "python",
   "pygments_lexer": "ipython3",
   "version": "3.9.21"
  }
 },
 "nbformat": 4,
 "nbformat_minor": 5
}
